{
 "metadata": {
  "name": "",
  "signature": "sha256:8488e76ef84d7254f162d38d417b9b94e41fb8590242ed81b18f7b5b28782338"
 },
 "nbformat": 3,
 "nbformat_minor": 0,
 "worksheets": [
  {
   "cells": [
    {
     "cell_type": "markdown",
     "metadata": {},
     "source": [
      "# Test JModelica.org and CasADi installation\n",
      "\n",
      "Run the examples in this notebook to make sure your installation\n",
      "is configured correctly (see http://www.jmodelica.org/page/27667 for\n",
      "more details)."
     ]
    },
    {
     "cell_type": "code",
     "collapsed": false,
     "input": [
      "from pylab import rcParams\n",
      "rcParams['figure.figsize'] = 12, 8"
     ],
     "language": "python",
     "metadata": {},
     "outputs": []
    },
    {
     "cell_type": "markdown",
     "metadata": {},
     "source": [
      "### Simple simulation - Van Der Pool oscillator"
     ]
    },
    {
     "cell_type": "code",
     "collapsed": false,
     "input": [
      "from pyjmi.examples import VDP_sim\n",
      "VDP_sim.run_demo()"
     ],
     "language": "python",
     "metadata": {},
     "outputs": []
    },
    {
     "cell_type": "markdown",
     "metadata": {},
     "source": [
      "### Optimization - Continuous Stirred-Tank Reactor (CSTR) example"
     ]
    },
    {
     "cell_type": "code",
     "collapsed": false,
     "input": [
      "from pyjmi.examples import cstr\n",
      "cstr.run_demo()"
     ],
     "language": "python",
     "metadata": {},
     "outputs": []
    },
    {
     "cell_type": "markdown",
     "metadata": {},
     "source": [
      "### Optimization - Continuous Stirred-Tank Reactor (CSTR) example with Casadi"
     ]
    },
    {
     "cell_type": "code",
     "collapsed": false,
     "input": [
      "from pyjmi.examples import cstr_casadi\n",
      "cstr_casadi.run_demo()"
     ],
     "language": "python",
     "metadata": {},
     "outputs": []
    }
   ],
   "metadata": {}
  }
 ]
}